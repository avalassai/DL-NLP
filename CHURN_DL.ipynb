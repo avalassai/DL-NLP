{
 "cells": [
  {
   "cell_type": "code",
   "execution_count": 171,
   "metadata": {},
   "outputs": [
    {
     "name": "stdout",
     "output_type": "stream",
     "text": [
      "Requirement already satisfied: tensorflow-gpu in c:\\users\\sampa\\appdata\\local\\programs\\python\\python39\\lib\\site-packages (2.9.1)\n",
      "Requirement already satisfied: termcolor>=1.1.0 in c:\\users\\sampa\\appdata\\local\\programs\\python\\python39\\lib\\site-packages (from tensorflow-gpu) (1.1.0)\n",
      "Requirement already satisfied: opt-einsum>=2.3.2 in c:\\users\\sampa\\appdata\\local\\programs\\python\\python39\\lib\\site-packages (from tensorflow-gpu) (3.3.0)\n"
     ]
    },
    {
     "name": "stderr",
     "output_type": "stream",
     "text": [
      "WARNING: You are using pip version 21.1.1; however, version 22.2.2 is available.\n",
      "You should consider upgrading via the 'c:\\users\\sampa\\appdata\\local\\programs\\python\\python39\\python.exe -m pip install --upgrade pip' command.\n"
     ]
    },
    {
     "name": "stdout",
     "output_type": "stream",
     "text": [
      "Requirement already satisfied: wrapt>=1.11.0 in c:\\users\\sampa\\appdata\\roaming\\python\\python39\\site-packages (from tensorflow-gpu) (1.12.1)\n",
      "Requirement already satisfied: tensorboard<2.10,>=2.9 in c:\\users\\sampa\\appdata\\local\\programs\\python\\python39\\lib\\site-packages (from tensorflow-gpu) (2.9.1)\n",
      "Requirement already satisfied: setuptools in c:\\users\\sampa\\appdata\\local\\programs\\python\\python39\\lib\\site-packages (from tensorflow-gpu) (56.0.0)\n",
      "Requirement already satisfied: keras-preprocessing>=1.1.1 in c:\\users\\sampa\\appdata\\local\\programs\\python\\python39\\lib\\site-packages (from tensorflow-gpu) (1.1.2)\n",
      "Requirement already satisfied: flatbuffers<2,>=1.12 in c:\\users\\sampa\\appdata\\local\\programs\\python\\python39\\lib\\site-packages (from tensorflow-gpu) (1.12)\n",
      "Requirement already satisfied: gast<=0.4.0,>=0.2.1 in c:\\users\\sampa\\appdata\\local\\programs\\python\\python39\\lib\\site-packages (from tensorflow-gpu) (0.4.0)\n",
      "Requirement already satisfied: six>=1.12.0 in c:\\users\\sampa\\appdata\\roaming\\python\\python39\\site-packages (from tensorflow-gpu) (1.15.0)\n",
      "Requirement already satisfied: libclang>=13.0.0 in c:\\users\\sampa\\appdata\\local\\programs\\python\\python39\\lib\\site-packages (from tensorflow-gpu) (14.0.6)\n",
      "Requirement already satisfied: packaging in c:\\users\\sampa\\appdata\\local\\programs\\python\\python39\\lib\\site-packages (from tensorflow-gpu) (21.3)\n",
      "Requirement already satisfied: h5py>=2.9.0 in c:\\users\\sampa\\appdata\\local\\programs\\python\\python39\\lib\\site-packages (from tensorflow-gpu) (3.1.0)\n",
      "Requirement already satisfied: tensorflow-estimator<2.10.0,>=2.9.0rc0 in c:\\users\\sampa\\appdata\\local\\programs\\python\\python39\\lib\\site-packages (from tensorflow-gpu) (2.9.0)\n",
      "Requirement already satisfied: keras<2.10.0,>=2.9.0rc0 in c:\\users\\sampa\\appdata\\local\\programs\\python\\python39\\lib\\site-packages (from tensorflow-gpu) (2.9.0)\n",
      "Requirement already satisfied: astunparse>=1.6.0 in c:\\users\\sampa\\appdata\\local\\programs\\python\\python39\\lib\\site-packages (from tensorflow-gpu) (1.6.3)\n",
      "Requirement already satisfied: tensorflow-io-gcs-filesystem>=0.23.1 in c:\\users\\sampa\\appdata\\local\\programs\\python\\python39\\lib\\site-packages (from tensorflow-gpu) (0.26.0)\n",
      "Requirement already satisfied: protobuf<3.20,>=3.9.2 in c:\\users\\sampa\\appdata\\local\\programs\\python\\python39\\lib\\site-packages (from tensorflow-gpu) (3.14.0)\n",
      "Requirement already satisfied: absl-py>=1.0.0 in c:\\users\\sampa\\appdata\\local\\programs\\python\\python39\\lib\\site-packages (from tensorflow-gpu) (1.2.0)\n",
      "Requirement already satisfied: grpcio<2.0,>=1.24.3 in c:\\users\\sampa\\appdata\\roaming\\python\\python39\\site-packages (from tensorflow-gpu) (1.34.0)\n",
      "Requirement already satisfied: typing-extensions>=3.6.6 in c:\\users\\sampa\\appdata\\local\\programs\\python\\python39\\lib\\site-packages (from tensorflow-gpu) (3.10.0.2)\n",
      "Requirement already satisfied: google-pasta>=0.1.1 in c:\\users\\sampa\\appdata\\local\\programs\\python\\python39\\lib\\site-packages (from tensorflow-gpu) (0.2.0)\n",
      "Requirement already satisfied: numpy>=1.20 in c:\\users\\sampa\\appdata\\local\\programs\\python\\python39\\lib\\site-packages (from tensorflow-gpu) (1.23.2)\n",
      "Requirement already satisfied: wheel<1.0,>=0.23.0 in c:\\users\\sampa\\appdata\\local\\programs\\python\\python39\\lib\\site-packages (from astunparse>=1.6.0->tensorflow-gpu) (0.36.1)\n",
      "Requirement already satisfied: google-auth<3,>=1.6.3 in c:\\users\\sampa\\appdata\\roaming\\python\\python39\\site-packages (from tensorboard<2.10,>=2.9->tensorflow-gpu) (1.23.0)\n",
      "Requirement already satisfied: google-auth-oauthlib<0.5,>=0.4.1 in c:\\users\\sampa\\appdata\\roaming\\python\\python39\\site-packages (from tensorboard<2.10,>=2.9->tensorflow-gpu) (0.4.2)\n",
      "Requirement already satisfied: markdown>=2.6.8 in c:\\users\\sampa\\appdata\\roaming\\python\\python39\\site-packages (from tensorboard<2.10,>=2.9->tensorflow-gpu) (3.3.3)\n",
      "Requirement already satisfied: tensorboard-plugin-wit>=1.6.0 in c:\\users\\sampa\\appdata\\roaming\\python\\python39\\site-packages (from tensorboard<2.10,>=2.9->tensorflow-gpu) (1.7.0)\n",
      "Requirement already satisfied: requests<3,>=2.21.0 in c:\\users\\sampa\\appdata\\roaming\\python\\python39\\site-packages (from tensorboard<2.10,>=2.9->tensorflow-gpu) (2.25.0)\n",
      "Requirement already satisfied: tensorboard-data-server<0.7.0,>=0.6.0 in c:\\users\\sampa\\appdata\\local\\programs\\python\\python39\\lib\\site-packages (from tensorboard<2.10,>=2.9->tensorflow-gpu) (0.6.1)\n",
      "Requirement already satisfied: werkzeug>=1.0.1 in c:\\users\\sampa\\appdata\\roaming\\python\\python39\\site-packages (from tensorboard<2.10,>=2.9->tensorflow-gpu) (1.0.1)\n",
      "Requirement already satisfied: pyasn1-modules>=0.2.1 in c:\\users\\sampa\\appdata\\roaming\\python\\python39\\site-packages (from google-auth<3,>=1.6.3->tensorboard<2.10,>=2.9->tensorflow-gpu) (0.2.8)\n",
      "Requirement already satisfied: rsa<5,>=3.1.4 in c:\\users\\sampa\\appdata\\roaming\\python\\python39\\site-packages (from google-auth<3,>=1.6.3->tensorboard<2.10,>=2.9->tensorflow-gpu) (4.6)\n",
      "Requirement already satisfied: cachetools<5.0,>=2.0.0 in c:\\users\\sampa\\appdata\\roaming\\python\\python39\\site-packages (from google-auth<3,>=1.6.3->tensorboard<2.10,>=2.9->tensorflow-gpu) (4.1.1)\n",
      "Requirement already satisfied: requests-oauthlib>=0.7.0 in c:\\users\\sampa\\appdata\\roaming\\python\\python39\\site-packages (from google-auth-oauthlib<0.5,>=0.4.1->tensorboard<2.10,>=2.9->tensorflow-gpu) (1.3.0)\n",
      "Requirement already satisfied: pyasn1<0.5.0,>=0.4.6 in c:\\users\\sampa\\appdata\\roaming\\python\\python39\\site-packages (from pyasn1-modules>=0.2.1->google-auth<3,>=1.6.3->tensorboard<2.10,>=2.9->tensorflow-gpu) (0.4.8)\n",
      "Requirement already satisfied: certifi>=2017.4.17 in c:\\users\\sampa\\appdata\\roaming\\python\\python39\\site-packages (from requests<3,>=2.21.0->tensorboard<2.10,>=2.9->tensorflow-gpu) (2020.12.5)\n",
      "Requirement already satisfied: urllib3<1.27,>=1.21.1 in c:\\users\\sampa\\appdata\\roaming\\python\\python39\\site-packages (from requests<3,>=2.21.0->tensorboard<2.10,>=2.9->tensorflow-gpu) (1.26.2)\n",
      "Requirement already satisfied: chardet<4,>=3.0.2 in c:\\users\\sampa\\appdata\\roaming\\python\\python39\\site-packages (from requests<3,>=2.21.0->tensorboard<2.10,>=2.9->tensorflow-gpu) (3.0.4)\n",
      "Requirement already satisfied: idna<3,>=2.5 in c:\\users\\sampa\\appdata\\roaming\\python\\python39\\site-packages (from requests<3,>=2.21.0->tensorboard<2.10,>=2.9->tensorflow-gpu) (2.10)\n",
      "Requirement already satisfied: oauthlib>=3.0.0 in c:\\users\\sampa\\appdata\\roaming\\python\\python39\\site-packages (from requests-oauthlib>=0.7.0->google-auth-oauthlib<0.5,>=0.4.1->tensorboard<2.10,>=2.9->tensorflow-gpu) (3.1.0)\n",
      "Requirement already satisfied: pyparsing!=3.0.5,>=2.0.2 in c:\\users\\sampa\\appdata\\local\\programs\\python\\python39\\lib\\site-packages (from packaging->tensorflow-gpu) (2.4.7)\n"
     ]
    }
   ],
   "source": [
    "!pip install tensorflow-gpu"
   ]
  },
  {
   "cell_type": "code",
   "execution_count": 172,
   "metadata": {},
   "outputs": [
    {
     "name": "stdout",
     "output_type": "stream",
     "text": [
      "2.9.1\n"
     ]
    }
   ],
   "source": [
    "import tensorflow as tf\n",
    "print(tf.__version__)"
   ]
  },
  {
   "cell_type": "code",
   "execution_count": 173,
   "metadata": {},
   "outputs": [],
   "source": [
    "## import some basic libraries\n",
    "import numpy as np\n",
    "import matplotlib.pyplot as plt\n",
    "import pandas as pd"
   ]
  },
  {
   "cell_type": "code",
   "execution_count": 174,
   "metadata": {},
   "outputs": [
    {
     "data": {
      "text/html": [
       "<div>\n",
       "<style scoped>\n",
       "    .dataframe tbody tr th:only-of-type {\n",
       "        vertical-align: middle;\n",
       "    }\n",
       "\n",
       "    .dataframe tbody tr th {\n",
       "        vertical-align: top;\n",
       "    }\n",
       "\n",
       "    .dataframe thead th {\n",
       "        text-align: right;\n",
       "    }\n",
       "</style>\n",
       "<table border=\"1\" class=\"dataframe\">\n",
       "  <thead>\n",
       "    <tr style=\"text-align: right;\">\n",
       "      <th></th>\n",
       "      <th>RowNumber</th>\n",
       "      <th>CustomerId</th>\n",
       "      <th>Surname</th>\n",
       "      <th>CreditScore</th>\n",
       "      <th>Geography</th>\n",
       "      <th>Gender</th>\n",
       "      <th>Age</th>\n",
       "      <th>Tenure</th>\n",
       "      <th>Balance</th>\n",
       "      <th>NumOfProducts</th>\n",
       "      <th>HasCrCard</th>\n",
       "      <th>IsActiveMember</th>\n",
       "      <th>EstimatedSalary</th>\n",
       "      <th>Exited</th>\n",
       "    </tr>\n",
       "  </thead>\n",
       "  <tbody>\n",
       "    <tr>\n",
       "      <th>0</th>\n",
       "      <td>1</td>\n",
       "      <td>15634602</td>\n",
       "      <td>Hargrave</td>\n",
       "      <td>619</td>\n",
       "      <td>France</td>\n",
       "      <td>Female</td>\n",
       "      <td>42</td>\n",
       "      <td>2</td>\n",
       "      <td>0.00</td>\n",
       "      <td>1</td>\n",
       "      <td>1</td>\n",
       "      <td>1</td>\n",
       "      <td>101348.88</td>\n",
       "      <td>1</td>\n",
       "    </tr>\n",
       "    <tr>\n",
       "      <th>1</th>\n",
       "      <td>2</td>\n",
       "      <td>15647311</td>\n",
       "      <td>Hill</td>\n",
       "      <td>608</td>\n",
       "      <td>Spain</td>\n",
       "      <td>Female</td>\n",
       "      <td>41</td>\n",
       "      <td>1</td>\n",
       "      <td>83807.86</td>\n",
       "      <td>1</td>\n",
       "      <td>0</td>\n",
       "      <td>1</td>\n",
       "      <td>112542.58</td>\n",
       "      <td>0</td>\n",
       "    </tr>\n",
       "    <tr>\n",
       "      <th>2</th>\n",
       "      <td>3</td>\n",
       "      <td>15619304</td>\n",
       "      <td>Onio</td>\n",
       "      <td>502</td>\n",
       "      <td>France</td>\n",
       "      <td>Female</td>\n",
       "      <td>42</td>\n",
       "      <td>8</td>\n",
       "      <td>159660.80</td>\n",
       "      <td>3</td>\n",
       "      <td>1</td>\n",
       "      <td>0</td>\n",
       "      <td>113931.57</td>\n",
       "      <td>1</td>\n",
       "    </tr>\n",
       "    <tr>\n",
       "      <th>3</th>\n",
       "      <td>4</td>\n",
       "      <td>15701354</td>\n",
       "      <td>Boni</td>\n",
       "      <td>699</td>\n",
       "      <td>France</td>\n",
       "      <td>Female</td>\n",
       "      <td>39</td>\n",
       "      <td>1</td>\n",
       "      <td>0.00</td>\n",
       "      <td>2</td>\n",
       "      <td>0</td>\n",
       "      <td>0</td>\n",
       "      <td>93826.63</td>\n",
       "      <td>0</td>\n",
       "    </tr>\n",
       "    <tr>\n",
       "      <th>4</th>\n",
       "      <td>5</td>\n",
       "      <td>15737888</td>\n",
       "      <td>Mitchell</td>\n",
       "      <td>850</td>\n",
       "      <td>Spain</td>\n",
       "      <td>Female</td>\n",
       "      <td>43</td>\n",
       "      <td>2</td>\n",
       "      <td>125510.82</td>\n",
       "      <td>1</td>\n",
       "      <td>1</td>\n",
       "      <td>1</td>\n",
       "      <td>79084.10</td>\n",
       "      <td>0</td>\n",
       "    </tr>\n",
       "  </tbody>\n",
       "</table>\n",
       "</div>"
      ],
      "text/plain": [
       "   RowNumber  CustomerId   Surname  CreditScore Geography  Gender  Age  \\\n",
       "0          1    15634602  Hargrave          619    France  Female   42   \n",
       "1          2    15647311      Hill          608     Spain  Female   41   \n",
       "2          3    15619304      Onio          502    France  Female   42   \n",
       "3          4    15701354      Boni          699    France  Female   39   \n",
       "4          5    15737888  Mitchell          850     Spain  Female   43   \n",
       "\n",
       "   Tenure    Balance  NumOfProducts  HasCrCard  IsActiveMember  \\\n",
       "0       2       0.00              1          1               1   \n",
       "1       1   83807.86              1          0               1   \n",
       "2       8  159660.80              3          1               0   \n",
       "3       1       0.00              2          0               0   \n",
       "4       2  125510.82              1          1               1   \n",
       "\n",
       "   EstimatedSalary  Exited  \n",
       "0        101348.88       1  \n",
       "1        112542.58       0  \n",
       "2        113931.57       1  \n",
       "3         93826.63       0  \n",
       "4         79084.10       0  "
      ]
     },
     "execution_count": 174,
     "metadata": {},
     "output_type": "execute_result"
    }
   ],
   "source": [
    "dataset = pd.read_csv('Churn_Modelling.csv')\n",
    "dataset.head()"
   ]
  },
  {
   "cell_type": "code",
   "execution_count": 175,
   "metadata": {},
   "outputs": [
    {
     "data": {
      "text/plain": [
       "(10000, 14)"
      ]
     },
     "execution_count": 175,
     "metadata": {},
     "output_type": "execute_result"
    }
   ],
   "source": [
    "dataset.shape"
   ]
  },
  {
   "cell_type": "code",
   "execution_count": 176,
   "metadata": {},
   "outputs": [
    {
     "data": {
      "text/plain": [
       "Index(['RowNumber', 'CustomerId', 'Surname', 'CreditScore', 'Geography',\n",
       "       'Gender', 'Age', 'Tenure', 'Balance', 'NumOfProducts', 'HasCrCard',\n",
       "       'IsActiveMember', 'EstimatedSalary', 'Exited'],\n",
       "      dtype='object')"
      ]
     },
     "execution_count": 176,
     "metadata": {},
     "output_type": "execute_result"
    }
   ],
   "source": [
    "dataset.columns"
   ]
  },
  {
   "cell_type": "code",
   "execution_count": 177,
   "metadata": {},
   "outputs": [
    {
     "data": {
      "text/plain": [
       "199992.48"
      ]
     },
     "execution_count": 177,
     "metadata": {},
     "output_type": "execute_result"
    }
   ],
   "source": [
    "dataset.EstimatedSalary.max()"
   ]
  },
  {
   "cell_type": "code",
   "execution_count": 178,
   "metadata": {},
   "outputs": [
    {
     "data": {
      "text/plain": [
       "199992.48"
      ]
     },
     "execution_count": 178,
     "metadata": {},
     "output_type": "execute_result"
    }
   ],
   "source": [
    "dataset['EstimatedSalary'].max()"
   ]
  },
  {
   "cell_type": "code",
   "execution_count": 179,
   "metadata": {},
   "outputs": [],
   "source": [
    "##Divide dataset into independent and dependent features\n",
    "X = dataset.iloc[:, 3:13]\n",
    "y = dataset.iloc[:, 13]"
   ]
  },
  {
   "cell_type": "code",
   "execution_count": 180,
   "metadata": {},
   "outputs": [
    {
     "data": {
      "text/html": [
       "<div>\n",
       "<style scoped>\n",
       "    .dataframe tbody tr th:only-of-type {\n",
       "        vertical-align: middle;\n",
       "    }\n",
       "\n",
       "    .dataframe tbody tr th {\n",
       "        vertical-align: top;\n",
       "    }\n",
       "\n",
       "    .dataframe thead th {\n",
       "        text-align: right;\n",
       "    }\n",
       "</style>\n",
       "<table border=\"1\" class=\"dataframe\">\n",
       "  <thead>\n",
       "    <tr style=\"text-align: right;\">\n",
       "      <th></th>\n",
       "      <th>CreditScore</th>\n",
       "      <th>Geography</th>\n",
       "      <th>Gender</th>\n",
       "      <th>Age</th>\n",
       "      <th>Tenure</th>\n",
       "      <th>Balance</th>\n",
       "      <th>NumOfProducts</th>\n",
       "      <th>HasCrCard</th>\n",
       "      <th>IsActiveMember</th>\n",
       "      <th>EstimatedSalary</th>\n",
       "    </tr>\n",
       "  </thead>\n",
       "  <tbody>\n",
       "    <tr>\n",
       "      <th>0</th>\n",
       "      <td>619</td>\n",
       "      <td>France</td>\n",
       "      <td>Female</td>\n",
       "      <td>42</td>\n",
       "      <td>2</td>\n",
       "      <td>0.00</td>\n",
       "      <td>1</td>\n",
       "      <td>1</td>\n",
       "      <td>1</td>\n",
       "      <td>101348.88</td>\n",
       "    </tr>\n",
       "    <tr>\n",
       "      <th>1</th>\n",
       "      <td>608</td>\n",
       "      <td>Spain</td>\n",
       "      <td>Female</td>\n",
       "      <td>41</td>\n",
       "      <td>1</td>\n",
       "      <td>83807.86</td>\n",
       "      <td>1</td>\n",
       "      <td>0</td>\n",
       "      <td>1</td>\n",
       "      <td>112542.58</td>\n",
       "    </tr>\n",
       "    <tr>\n",
       "      <th>2</th>\n",
       "      <td>502</td>\n",
       "      <td>France</td>\n",
       "      <td>Female</td>\n",
       "      <td>42</td>\n",
       "      <td>8</td>\n",
       "      <td>159660.80</td>\n",
       "      <td>3</td>\n",
       "      <td>1</td>\n",
       "      <td>0</td>\n",
       "      <td>113931.57</td>\n",
       "    </tr>\n",
       "    <tr>\n",
       "      <th>3</th>\n",
       "      <td>699</td>\n",
       "      <td>France</td>\n",
       "      <td>Female</td>\n",
       "      <td>39</td>\n",
       "      <td>1</td>\n",
       "      <td>0.00</td>\n",
       "      <td>2</td>\n",
       "      <td>0</td>\n",
       "      <td>0</td>\n",
       "      <td>93826.63</td>\n",
       "    </tr>\n",
       "    <tr>\n",
       "      <th>4</th>\n",
       "      <td>850</td>\n",
       "      <td>Spain</td>\n",
       "      <td>Female</td>\n",
       "      <td>43</td>\n",
       "      <td>2</td>\n",
       "      <td>125510.82</td>\n",
       "      <td>1</td>\n",
       "      <td>1</td>\n",
       "      <td>1</td>\n",
       "      <td>79084.10</td>\n",
       "    </tr>\n",
       "    <tr>\n",
       "      <th>...</th>\n",
       "      <td>...</td>\n",
       "      <td>...</td>\n",
       "      <td>...</td>\n",
       "      <td>...</td>\n",
       "      <td>...</td>\n",
       "      <td>...</td>\n",
       "      <td>...</td>\n",
       "      <td>...</td>\n",
       "      <td>...</td>\n",
       "      <td>...</td>\n",
       "    </tr>\n",
       "    <tr>\n",
       "      <th>9995</th>\n",
       "      <td>771</td>\n",
       "      <td>France</td>\n",
       "      <td>Male</td>\n",
       "      <td>39</td>\n",
       "      <td>5</td>\n",
       "      <td>0.00</td>\n",
       "      <td>2</td>\n",
       "      <td>1</td>\n",
       "      <td>0</td>\n",
       "      <td>96270.64</td>\n",
       "    </tr>\n",
       "    <tr>\n",
       "      <th>9996</th>\n",
       "      <td>516</td>\n",
       "      <td>France</td>\n",
       "      <td>Male</td>\n",
       "      <td>35</td>\n",
       "      <td>10</td>\n",
       "      <td>57369.61</td>\n",
       "      <td>1</td>\n",
       "      <td>1</td>\n",
       "      <td>1</td>\n",
       "      <td>101699.77</td>\n",
       "    </tr>\n",
       "    <tr>\n",
       "      <th>9997</th>\n",
       "      <td>709</td>\n",
       "      <td>France</td>\n",
       "      <td>Female</td>\n",
       "      <td>36</td>\n",
       "      <td>7</td>\n",
       "      <td>0.00</td>\n",
       "      <td>1</td>\n",
       "      <td>0</td>\n",
       "      <td>1</td>\n",
       "      <td>42085.58</td>\n",
       "    </tr>\n",
       "    <tr>\n",
       "      <th>9998</th>\n",
       "      <td>772</td>\n",
       "      <td>Germany</td>\n",
       "      <td>Male</td>\n",
       "      <td>42</td>\n",
       "      <td>3</td>\n",
       "      <td>75075.31</td>\n",
       "      <td>2</td>\n",
       "      <td>1</td>\n",
       "      <td>0</td>\n",
       "      <td>92888.52</td>\n",
       "    </tr>\n",
       "    <tr>\n",
       "      <th>9999</th>\n",
       "      <td>792</td>\n",
       "      <td>France</td>\n",
       "      <td>Female</td>\n",
       "      <td>28</td>\n",
       "      <td>4</td>\n",
       "      <td>130142.79</td>\n",
       "      <td>1</td>\n",
       "      <td>1</td>\n",
       "      <td>0</td>\n",
       "      <td>38190.78</td>\n",
       "    </tr>\n",
       "  </tbody>\n",
       "</table>\n",
       "<p>10000 rows × 10 columns</p>\n",
       "</div>"
      ],
      "text/plain": [
       "      CreditScore Geography  Gender  Age  Tenure    Balance  NumOfProducts  \\\n",
       "0             619    France  Female   42       2       0.00              1   \n",
       "1             608     Spain  Female   41       1   83807.86              1   \n",
       "2             502    France  Female   42       8  159660.80              3   \n",
       "3             699    France  Female   39       1       0.00              2   \n",
       "4             850     Spain  Female   43       2  125510.82              1   \n",
       "...           ...       ...     ...  ...     ...        ...            ...   \n",
       "9995          771    France    Male   39       5       0.00              2   \n",
       "9996          516    France    Male   35      10   57369.61              1   \n",
       "9997          709    France  Female   36       7       0.00              1   \n",
       "9998          772   Germany    Male   42       3   75075.31              2   \n",
       "9999          792    France  Female   28       4  130142.79              1   \n",
       "\n",
       "      HasCrCard  IsActiveMember  EstimatedSalary  \n",
       "0             1               1        101348.88  \n",
       "1             0               1        112542.58  \n",
       "2             1               0        113931.57  \n",
       "3             0               0         93826.63  \n",
       "4             1               1         79084.10  \n",
       "...         ...             ...              ...  \n",
       "9995          1               0         96270.64  \n",
       "9996          1               1        101699.77  \n",
       "9997          0               1         42085.58  \n",
       "9998          1               0         92888.52  \n",
       "9999          1               0         38190.78  \n",
       "\n",
       "[10000 rows x 10 columns]"
      ]
     },
     "execution_count": 180,
     "metadata": {},
     "output_type": "execute_result"
    }
   ],
   "source": [
    "X"
   ]
  },
  {
   "cell_type": "code",
   "execution_count": 181,
   "metadata": {},
   "outputs": [
    {
     "data": {
      "text/plain": [
       "0       1\n",
       "1       0\n",
       "2       1\n",
       "3       0\n",
       "4       0\n",
       "       ..\n",
       "9995    0\n",
       "9996    0\n",
       "9997    1\n",
       "9998    1\n",
       "9999    0\n",
       "Name: Exited, Length: 10000, dtype: int64"
      ]
     },
     "execution_count": 181,
     "metadata": {},
     "output_type": "execute_result"
    }
   ],
   "source": [
    "Y"
   ]
  },
  {
   "cell_type": "code",
   "execution_count": 182,
   "metadata": {},
   "outputs": [],
   "source": [
    "geography=pd.get_dummies(X[\"Geography\"],drop_first=True)"
   ]
  },
  {
   "cell_type": "code",
   "execution_count": 183,
   "metadata": {},
   "outputs": [],
   "source": [
    "gender=pd.get_dummies(X['Gender'],drop_first=True)"
   ]
  },
  {
   "cell_type": "code",
   "execution_count": 184,
   "metadata": {},
   "outputs": [],
   "source": [
    "## Concatenate the Data Frames\n",
    "\n",
    "X=pd.concat([X,geography,gender],axis=1)\n",
    "\n",
    "## Drop Unnecessary columns\n",
    "X=X.drop(['Geography','Gender'],axis=1)"
   ]
  },
  {
   "cell_type": "code",
   "execution_count": 185,
   "metadata": {},
   "outputs": [
    {
     "data": {
      "text/html": [
       "<div>\n",
       "<style scoped>\n",
       "    .dataframe tbody tr th:only-of-type {\n",
       "        vertical-align: middle;\n",
       "    }\n",
       "\n",
       "    .dataframe tbody tr th {\n",
       "        vertical-align: top;\n",
       "    }\n",
       "\n",
       "    .dataframe thead th {\n",
       "        text-align: right;\n",
       "    }\n",
       "</style>\n",
       "<table border=\"1\" class=\"dataframe\">\n",
       "  <thead>\n",
       "    <tr style=\"text-align: right;\">\n",
       "      <th></th>\n",
       "      <th>CreditScore</th>\n",
       "      <th>Age</th>\n",
       "      <th>Tenure</th>\n",
       "      <th>Balance</th>\n",
       "      <th>NumOfProducts</th>\n",
       "      <th>HasCrCard</th>\n",
       "      <th>IsActiveMember</th>\n",
       "      <th>EstimatedSalary</th>\n",
       "      <th>Germany</th>\n",
       "      <th>Spain</th>\n",
       "      <th>Male</th>\n",
       "    </tr>\n",
       "  </thead>\n",
       "  <tbody>\n",
       "    <tr>\n",
       "      <th>0</th>\n",
       "      <td>619</td>\n",
       "      <td>42</td>\n",
       "      <td>2</td>\n",
       "      <td>0.00</td>\n",
       "      <td>1</td>\n",
       "      <td>1</td>\n",
       "      <td>1</td>\n",
       "      <td>101348.88</td>\n",
       "      <td>0</td>\n",
       "      <td>0</td>\n",
       "      <td>0</td>\n",
       "    </tr>\n",
       "    <tr>\n",
       "      <th>1</th>\n",
       "      <td>608</td>\n",
       "      <td>41</td>\n",
       "      <td>1</td>\n",
       "      <td>83807.86</td>\n",
       "      <td>1</td>\n",
       "      <td>0</td>\n",
       "      <td>1</td>\n",
       "      <td>112542.58</td>\n",
       "      <td>0</td>\n",
       "      <td>1</td>\n",
       "      <td>0</td>\n",
       "    </tr>\n",
       "    <tr>\n",
       "      <th>2</th>\n",
       "      <td>502</td>\n",
       "      <td>42</td>\n",
       "      <td>8</td>\n",
       "      <td>159660.80</td>\n",
       "      <td>3</td>\n",
       "      <td>1</td>\n",
       "      <td>0</td>\n",
       "      <td>113931.57</td>\n",
       "      <td>0</td>\n",
       "      <td>0</td>\n",
       "      <td>0</td>\n",
       "    </tr>\n",
       "    <tr>\n",
       "      <th>3</th>\n",
       "      <td>699</td>\n",
       "      <td>39</td>\n",
       "      <td>1</td>\n",
       "      <td>0.00</td>\n",
       "      <td>2</td>\n",
       "      <td>0</td>\n",
       "      <td>0</td>\n",
       "      <td>93826.63</td>\n",
       "      <td>0</td>\n",
       "      <td>0</td>\n",
       "      <td>0</td>\n",
       "    </tr>\n",
       "    <tr>\n",
       "      <th>4</th>\n",
       "      <td>850</td>\n",
       "      <td>43</td>\n",
       "      <td>2</td>\n",
       "      <td>125510.82</td>\n",
       "      <td>1</td>\n",
       "      <td>1</td>\n",
       "      <td>1</td>\n",
       "      <td>79084.10</td>\n",
       "      <td>0</td>\n",
       "      <td>1</td>\n",
       "      <td>0</td>\n",
       "    </tr>\n",
       "    <tr>\n",
       "      <th>...</th>\n",
       "      <td>...</td>\n",
       "      <td>...</td>\n",
       "      <td>...</td>\n",
       "      <td>...</td>\n",
       "      <td>...</td>\n",
       "      <td>...</td>\n",
       "      <td>...</td>\n",
       "      <td>...</td>\n",
       "      <td>...</td>\n",
       "      <td>...</td>\n",
       "      <td>...</td>\n",
       "    </tr>\n",
       "    <tr>\n",
       "      <th>9995</th>\n",
       "      <td>771</td>\n",
       "      <td>39</td>\n",
       "      <td>5</td>\n",
       "      <td>0.00</td>\n",
       "      <td>2</td>\n",
       "      <td>1</td>\n",
       "      <td>0</td>\n",
       "      <td>96270.64</td>\n",
       "      <td>0</td>\n",
       "      <td>0</td>\n",
       "      <td>1</td>\n",
       "    </tr>\n",
       "    <tr>\n",
       "      <th>9996</th>\n",
       "      <td>516</td>\n",
       "      <td>35</td>\n",
       "      <td>10</td>\n",
       "      <td>57369.61</td>\n",
       "      <td>1</td>\n",
       "      <td>1</td>\n",
       "      <td>1</td>\n",
       "      <td>101699.77</td>\n",
       "      <td>0</td>\n",
       "      <td>0</td>\n",
       "      <td>1</td>\n",
       "    </tr>\n",
       "    <tr>\n",
       "      <th>9997</th>\n",
       "      <td>709</td>\n",
       "      <td>36</td>\n",
       "      <td>7</td>\n",
       "      <td>0.00</td>\n",
       "      <td>1</td>\n",
       "      <td>0</td>\n",
       "      <td>1</td>\n",
       "      <td>42085.58</td>\n",
       "      <td>0</td>\n",
       "      <td>0</td>\n",
       "      <td>0</td>\n",
       "    </tr>\n",
       "    <tr>\n",
       "      <th>9998</th>\n",
       "      <td>772</td>\n",
       "      <td>42</td>\n",
       "      <td>3</td>\n",
       "      <td>75075.31</td>\n",
       "      <td>2</td>\n",
       "      <td>1</td>\n",
       "      <td>0</td>\n",
       "      <td>92888.52</td>\n",
       "      <td>1</td>\n",
       "      <td>0</td>\n",
       "      <td>1</td>\n",
       "    </tr>\n",
       "    <tr>\n",
       "      <th>9999</th>\n",
       "      <td>792</td>\n",
       "      <td>28</td>\n",
       "      <td>4</td>\n",
       "      <td>130142.79</td>\n",
       "      <td>1</td>\n",
       "      <td>1</td>\n",
       "      <td>0</td>\n",
       "      <td>38190.78</td>\n",
       "      <td>0</td>\n",
       "      <td>0</td>\n",
       "      <td>0</td>\n",
       "    </tr>\n",
       "  </tbody>\n",
       "</table>\n",
       "<p>10000 rows × 11 columns</p>\n",
       "</div>"
      ],
      "text/plain": [
       "      CreditScore  Age  Tenure    Balance  NumOfProducts  HasCrCard  \\\n",
       "0             619   42       2       0.00              1          1   \n",
       "1             608   41       1   83807.86              1          0   \n",
       "2             502   42       8  159660.80              3          1   \n",
       "3             699   39       1       0.00              2          0   \n",
       "4             850   43       2  125510.82              1          1   \n",
       "...           ...  ...     ...        ...            ...        ...   \n",
       "9995          771   39       5       0.00              2          1   \n",
       "9996          516   35      10   57369.61              1          1   \n",
       "9997          709   36       7       0.00              1          0   \n",
       "9998          772   42       3   75075.31              2          1   \n",
       "9999          792   28       4  130142.79              1          1   \n",
       "\n",
       "      IsActiveMember  EstimatedSalary  Germany  Spain  Male  \n",
       "0                  1        101348.88        0      0     0  \n",
       "1                  1        112542.58        0      1     0  \n",
       "2                  0        113931.57        0      0     0  \n",
       "3                  0         93826.63        0      0     0  \n",
       "4                  1         79084.10        0      1     0  \n",
       "...              ...              ...      ...    ...   ...  \n",
       "9995               0         96270.64        0      0     1  \n",
       "9996               1        101699.77        0      0     1  \n",
       "9997               1         42085.58        0      0     0  \n",
       "9998               0         92888.52        1      0     1  \n",
       "9999               0         38190.78        0      0     0  \n",
       "\n",
       "[10000 rows x 11 columns]"
      ]
     },
     "execution_count": 185,
     "metadata": {},
     "output_type": "execute_result"
    }
   ],
   "source": [
    "X"
   ]
  },
  {
   "cell_type": "code",
   "execution_count": 186,
   "metadata": {},
   "outputs": [],
   "source": [
    "# Splitting the dataset into the Training set and Test set\n",
    "from sklearn.model_selection import train_test_split\n",
    "X_train, X_test, y_train, y_test = train_test_split(X, y, test_size = 0.2, random_state = 0)"
   ]
  },
  {
   "cell_type": "code",
   "execution_count": 187,
   "metadata": {},
   "outputs": [],
   "source": [
    "# Feature Scaling\n",
    "from sklearn.preprocessing import StandardScaler\n",
    "sc = StandardScaler()\n",
    "X_train = sc.fit_transform(X_train)\n",
    "X_test = sc.transform(X_test)"
   ]
  },
  {
   "cell_type": "code",
   "execution_count": 188,
   "metadata": {},
   "outputs": [
    {
     "data": {
      "text/plain": [
       "(8000, 11)"
      ]
     },
     "execution_count": 188,
     "metadata": {},
     "output_type": "execute_result"
    }
   ],
   "source": [
    "X_train.shape"
   ]
  },
  {
   "cell_type": "code",
   "execution_count": 189,
   "metadata": {},
   "outputs": [],
   "source": [
    "## Part 2 - Now let's make the ANN!\n",
    "from tensorflow.keras.models import Sequential ## helps for forward and backward propagation\n",
    "from tensorflow.keras.layers import Dense #### helps for creating input and hidden layers\n",
    "from tensorflow.keras.layers import LeakyReLU,PReLU,ELU\n",
    "from tensorflow.keras.layers import Dropout ##it is a regularization parameter (like L1 L2 norm in ML),SOMETIMES model leads to\n",
    "## over fitting then we need to deactivate the neurons in the hidden layers during training , if dropout set to 0.3 , 30% of \n",
    "##neurons get deactivated while training "
   ]
  },
  {
   "cell_type": "code",
   "execution_count": 190,
   "metadata": {},
   "outputs": [],
   "source": [
    "classifier2 = Sequential()"
   ]
  },
  {
   "cell_type": "code",
   "execution_count": 191,
   "metadata": {},
   "outputs": [],
   "source": [
    "## adding input layer\n",
    "classifier2.add(Dense(units=11,activation='relu')) ##because there are 11 inputs"
   ]
  },
  {
   "cell_type": "code",
   "execution_count": 192,
   "metadata": {},
   "outputs": [],
   "source": [
    "## adding first hidden layer\n",
    "classifier2.add(Dense(units=7,activation='relu'))\n",
    "classifier2.add(Dropout(0.2))"
   ]
  },
  {
   "cell_type": "code",
   "execution_count": 193,
   "metadata": {},
   "outputs": [],
   "source": [
    "## adding Second hidden layer\n",
    "classifier2.add(Dense(units=6,activation='relu'))\n",
    "classifier2.add(Dropout(0.3))"
   ]
  },
  {
   "cell_type": "code",
   "execution_count": 194,
   "metadata": {},
   "outputs": [],
   "source": [
    "## adding output layer\n",
    "classifier2.add(Dense(1,activation='sigmoid'))"
   ]
  },
  {
   "cell_type": "code",
   "execution_count": 195,
   "metadata": {},
   "outputs": [],
   "source": [
    "## by default adam adds the learning rate of 0.1(n)\n",
    "##we can also manually add the learning rate\n",
    "\n",
    "import tensorflow\n",
    "tensorflow.keras.optimizers.Adam(learning_rate=0.01)\n",
    "\n",
    "classifier2.compile(optimizer='adam',loss='binary_crossentropy',metrics=['accuracy'])"
   ]
  },
  {
   "cell_type": "code",
   "execution_count": 196,
   "metadata": {},
   "outputs": [],
   "source": [
    "import tensorflow as tf\n",
    "early_stopping=tf.keras.callbacks.EarlyStopping(\n",
    "    monitor=\"val_loss\",\n",
    "    min_delta=0.0001,\n",
    "    patience=20,\n",
    "    verbose=1,\n",
    "    mode=\"auto\",\n",
    "    baseline=None,\n",
    "    restore_best_weights=False,\n",
    ")"
   ]
  },
  {
   "cell_type": "code",
   "execution_count": 198,
   "metadata": {},
   "outputs": [
    {
     "name": "stdout",
     "output_type": "stream",
     "text": [
      "Epoch 1/50\n",
      "536/536 [==============================] - 1s 2ms/step - loss: 0.4797 - accuracy: 0.7962 - val_loss: 0.4492 - val_accuracy: 0.7955\n",
      "Epoch 2/50\n",
      "536/536 [==============================] - 1s 1ms/step - loss: 0.4367 - accuracy: 0.7962 - val_loss: 0.4362 - val_accuracy: 0.7955\n",
      "Epoch 3/50\n",
      "536/536 [==============================] - 1s 1ms/step - loss: 0.4232 - accuracy: 0.7962 - val_loss: 0.4261 - val_accuracy: 0.7955\n",
      "Epoch 4/50\n",
      "536/536 [==============================] - 1s 1ms/step - loss: 0.4112 - accuracy: 0.8015 - val_loss: 0.4170 - val_accuracy: 0.8092\n",
      "Epoch 5/50\n",
      "536/536 [==============================] - 1s 1ms/step - loss: 0.4004 - accuracy: 0.8175 - val_loss: 0.4082 - val_accuracy: 0.8266\n",
      "Epoch 6/50\n",
      "536/536 [==============================] - 1s 2ms/step - loss: 0.3879 - accuracy: 0.8380 - val_loss: 0.3946 - val_accuracy: 0.8334\n",
      "Epoch 7/50\n",
      "536/536 [==============================] - 1s 2ms/step - loss: 0.3663 - accuracy: 0.8543 - val_loss: 0.3786 - val_accuracy: 0.8398\n",
      "Epoch 8/50\n",
      "536/536 [==============================] - 1s 2ms/step - loss: 0.3516 - accuracy: 0.8576 - val_loss: 0.3699 - val_accuracy: 0.8440\n",
      "Epoch 9/50\n",
      "536/536 [==============================] - 1s 2ms/step - loss: 0.3447 - accuracy: 0.8602 - val_loss: 0.3678 - val_accuracy: 0.8444\n",
      "Epoch 10/50\n",
      "536/536 [==============================] - 1s 2ms/step - loss: 0.3405 - accuracy: 0.8593 - val_loss: 0.3644 - val_accuracy: 0.8470\n",
      "Epoch 11/50\n",
      "536/536 [==============================] - 1s 2ms/step - loss: 0.3376 - accuracy: 0.8597 - val_loss: 0.3623 - val_accuracy: 0.8493\n",
      "Epoch 12/50\n",
      "536/536 [==============================] - 1s 2ms/step - loss: 0.3362 - accuracy: 0.8614 - val_loss: 0.3614 - val_accuracy: 0.8504\n",
      "Epoch 13/50\n",
      "536/536 [==============================] - 1s 2ms/step - loss: 0.3348 - accuracy: 0.8612 - val_loss: 0.3640 - val_accuracy: 0.8493\n",
      "Epoch 14/50\n",
      "536/536 [==============================] - 1s 2ms/step - loss: 0.3338 - accuracy: 0.8630 - val_loss: 0.3687 - val_accuracy: 0.8474\n",
      "Epoch 15/50\n",
      "536/536 [==============================] - 1s 2ms/step - loss: 0.3333 - accuracy: 0.8630 - val_loss: 0.3601 - val_accuracy: 0.8489\n",
      "Epoch 16/50\n",
      "536/536 [==============================] - 1s 2ms/step - loss: 0.3313 - accuracy: 0.8656 - val_loss: 0.3609 - val_accuracy: 0.8527\n",
      "Epoch 17/50\n",
      "536/536 [==============================] - 1s 2ms/step - loss: 0.3314 - accuracy: 0.8628 - val_loss: 0.3612 - val_accuracy: 0.8527\n",
      "Epoch 18/50\n",
      "536/536 [==============================] - 1s 2ms/step - loss: 0.3302 - accuracy: 0.8642 - val_loss: 0.3601 - val_accuracy: 0.8489\n",
      "Epoch 19/50\n",
      "536/536 [==============================] - 1s 2ms/step - loss: 0.3298 - accuracy: 0.8664 - val_loss: 0.3617 - val_accuracy: 0.8497\n",
      "Epoch 20/50\n",
      "536/536 [==============================] - 1s 1ms/step - loss: 0.3299 - accuracy: 0.8662 - val_loss: 0.3607 - val_accuracy: 0.8493\n",
      "Epoch 21/50\n",
      "536/536 [==============================] - 1s 2ms/step - loss: 0.3280 - accuracy: 0.8643 - val_loss: 0.3623 - val_accuracy: 0.8501\n",
      "Epoch 22/50\n",
      "536/536 [==============================] - 1s 1ms/step - loss: 0.3281 - accuracy: 0.8634 - val_loss: 0.3638 - val_accuracy: 0.8466\n",
      "Epoch 23/50\n",
      "536/536 [==============================] - 1s 1ms/step - loss: 0.3279 - accuracy: 0.8649 - val_loss: 0.3594 - val_accuracy: 0.8485\n",
      "Epoch 24/50\n",
      "536/536 [==============================] - 1s 2ms/step - loss: 0.3275 - accuracy: 0.8666 - val_loss: 0.3621 - val_accuracy: 0.8508\n",
      "Epoch 25/50\n",
      "536/536 [==============================] - 1s 2ms/step - loss: 0.3273 - accuracy: 0.8658 - val_loss: 0.3588 - val_accuracy: 0.8497\n",
      "Epoch 26/50\n",
      "536/536 [==============================] - 1s 2ms/step - loss: 0.3275 - accuracy: 0.8653 - val_loss: 0.3589 - val_accuracy: 0.8516\n",
      "Epoch 27/50\n",
      "536/536 [==============================] - 1s 2ms/step - loss: 0.3258 - accuracy: 0.8649 - val_loss: 0.3576 - val_accuracy: 0.8504\n",
      "Epoch 28/50\n",
      "536/536 [==============================] - 1s 2ms/step - loss: 0.3262 - accuracy: 0.8668 - val_loss: 0.3556 - val_accuracy: 0.8531\n",
      "Epoch 29/50\n",
      "536/536 [==============================] - 1s 2ms/step - loss: 0.3263 - accuracy: 0.8668 - val_loss: 0.3570 - val_accuracy: 0.8493\n",
      "Epoch 30/50\n",
      "536/536 [==============================] - 1s 1ms/step - loss: 0.3253 - accuracy: 0.8649 - val_loss: 0.3576 - val_accuracy: 0.8489\n",
      "Epoch 31/50\n",
      "536/536 [==============================] - 1s 2ms/step - loss: 0.3255 - accuracy: 0.8643 - val_loss: 0.3568 - val_accuracy: 0.8516\n",
      "Epoch 32/50\n",
      "536/536 [==============================] - 1s 2ms/step - loss: 0.3240 - accuracy: 0.8668 - val_loss: 0.3584 - val_accuracy: 0.8482\n",
      "Epoch 33/50\n",
      "536/536 [==============================] - 1s 2ms/step - loss: 0.3245 - accuracy: 0.8649 - val_loss: 0.3587 - val_accuracy: 0.8523\n",
      "Epoch 34/50\n",
      "536/536 [==============================] - 1s 2ms/step - loss: 0.3243 - accuracy: 0.8664 - val_loss: 0.3568 - val_accuracy: 0.8542\n",
      "Epoch 35/50\n",
      "536/536 [==============================] - 1s 2ms/step - loss: 0.3244 - accuracy: 0.8649 - val_loss: 0.3580 - val_accuracy: 0.8523\n",
      "Epoch 36/50\n",
      "536/536 [==============================] - 1s 2ms/step - loss: 0.3238 - accuracy: 0.8662 - val_loss: 0.3577 - val_accuracy: 0.8519\n",
      "Epoch 37/50\n",
      "536/536 [==============================] - 1s 2ms/step - loss: 0.3229 - accuracy: 0.8673 - val_loss: 0.3592 - val_accuracy: 0.8527\n",
      "Epoch 38/50\n",
      "536/536 [==============================] - 1s 1ms/step - loss: 0.3231 - accuracy: 0.8658 - val_loss: 0.3586 - val_accuracy: 0.8527\n",
      "Epoch 39/50\n",
      "536/536 [==============================] - 1s 1ms/step - loss: 0.3233 - accuracy: 0.8666 - val_loss: 0.3585 - val_accuracy: 0.8516\n",
      "Epoch 40/50\n",
      "536/536 [==============================] - 1s 1ms/step - loss: 0.3222 - accuracy: 0.8656 - val_loss: 0.3589 - val_accuracy: 0.8516\n",
      "Epoch 41/50\n",
      "536/536 [==============================] - 1s 1ms/step - loss: 0.3221 - accuracy: 0.8658 - val_loss: 0.3586 - val_accuracy: 0.8542\n",
      "Epoch 42/50\n",
      "536/536 [==============================] - 1s 2ms/step - loss: 0.3223 - accuracy: 0.8662 - val_loss: 0.3574 - val_accuracy: 0.8538\n",
      "Epoch 43/50\n",
      "536/536 [==============================] - 1s 2ms/step - loss: 0.3225 - accuracy: 0.8634 - val_loss: 0.3573 - val_accuracy: 0.8531\n",
      "Epoch 44/50\n",
      "536/536 [==============================] - 1s 2ms/step - loss: 0.3210 - accuracy: 0.8647 - val_loss: 0.3638 - val_accuracy: 0.8516\n",
      "Epoch 45/50\n",
      "536/536 [==============================] - 1s 1ms/step - loss: 0.3218 - accuracy: 0.8656 - val_loss: 0.3596 - val_accuracy: 0.8523\n",
      "Epoch 46/50\n",
      "536/536 [==============================] - 1s 2ms/step - loss: 0.3218 - accuracy: 0.8653 - val_loss: 0.3591 - val_accuracy: 0.8538\n",
      "Epoch 47/50\n",
      "536/536 [==============================] - 1s 2ms/step - loss: 0.3206 - accuracy: 0.8673 - val_loss: 0.3605 - val_accuracy: 0.8501\n",
      "Epoch 48/50\n",
      "536/536 [==============================] - 1s 2ms/step - loss: 0.3207 - accuracy: 0.8666 - val_loss: 0.3580 - val_accuracy: 0.8527\n",
      "Epoch 48: early stopping\n"
     ]
    }
   ],
   "source": [
    "model_history=classifier2.fit(X_train,y_train,validation_split=0.33,batch_size=10,epochs=50,callbacks=early_stopping)"
   ]
  },
  {
   "cell_type": "code",
   "execution_count": 199,
   "metadata": {},
   "outputs": [
    {
     "data": {
      "text/plain": [
       "<keras.callbacks.History at 0x26e4d5fd460>"
      ]
     },
     "execution_count": 199,
     "metadata": {},
     "output_type": "execute_result"
    }
   ],
   "source": [
    "model_history"
   ]
  },
  {
   "cell_type": "code",
   "execution_count": 200,
   "metadata": {},
   "outputs": [
    {
     "data": {
      "text/plain": [
       "dict_keys(['loss', 'accuracy', 'val_loss', 'val_accuracy'])"
      ]
     },
     "execution_count": 200,
     "metadata": {},
     "output_type": "execute_result"
    }
   ],
   "source": [
    "model_history.history.keys()"
   ]
  },
  {
   "cell_type": "code",
   "execution_count": 205,
   "metadata": {},
   "outputs": [
    {
     "data": {
      "image/png": "[encoded data removed]",
      "text/plain": [
       "<Figure size 432x288 with 1 Axes>"
      ]
     },
     "metadata": {
      "needs_background": "light"
     },
     "output_type": "display_data"
    }
   ],
   "source": [
    "# summarize history for accuracy\n",
    "plt.plot(model_history.history['accuracy'])\n",
    "plt.plot(model_history.history['val_accuracy'])\n",
    "plt.title('model accuracy')\n",
    "plt.ylabel('accuracy')\n",
    "plt.xlabel('epoch')\n",
    "plt.legend(['train', 'test'], loc='upper left')\n",
    "plt.show()"
   ]
  },
  {
   "cell_type": "code",
   "execution_count": 204,
   "metadata": {},
   "outputs": [
    {
     "data": {
      "image/png": "[encoded data removed]",
      "text/plain": [
       "<Figure size 432x288 with 1 Axes>"
      ]
     },
     "metadata": {
      "needs_background": "light"
     },
     "output_type": "display_data"
    }
   ],
   "source": [
    "# summarize history for loss\n",
    "plt.plot(model_history.history['loss'])\n",
    "plt.plot(model_history.history['val_loss'])\n",
    "plt.title('model loss')\n",
    "plt.ylabel('loss')\n",
    "plt.xlabel('epoch')\n",
    "plt.legend(['train', 'test'], loc='upper left')\n",
    "plt.show()"
   ]
  },
  {
   "cell_type": "code",
   "execution_count": 206,
   "metadata": {},
   "outputs": [
    {
     "name": "stdout",
     "output_type": "stream",
     "text": [
      "63/63 [==============================] - 0s 754us/step\n"
     ]
    }
   ],
   "source": [
    "# Part 3 - Making the predictions and evaluating the model\n",
    "\n",
    "# Predicting the Test set results\n",
    "y_pred = classifier2.predict(X_test)\n",
    "y_pred = (y_pred >= 0.5)"
   ]
  },
  {
   "cell_type": "code",
   "execution_count": 207,
   "metadata": {},
   "outputs": [
    {
     "data": {
      "text/plain": [
       "array([[1492,  103],\n",
       "       [ 189,  216]], dtype=int64)"
      ]
     },
     "execution_count": 207,
     "metadata": {},
     "output_type": "execute_result"
    }
   ],
   "source": [
    "# Making the Confusion Matrix\n",
    "from sklearn.metrics import confusion_matrix\n",
    "cm = confusion_matrix(y_test, y_pred)\n",
    "cm"
   ]
  },
  {
   "cell_type": "code",
   "execution_count": 208,
   "metadata": {},
   "outputs": [],
   "source": [
    "# Calculate the Accuracy\n",
    "from sklearn.metrics import accuracy_score\n",
    "score=accuracy_score(y_pred,y_test)"
   ]
  },
  {
   "cell_type": "code",
   "execution_count": 209,
   "metadata": {},
   "outputs": [
    {
     "data": {
      "text/plain": [
       "0.854"
      ]
     },
     "execution_count": 209,
     "metadata": {},
     "output_type": "execute_result"
    }
   ],
   "source": [
    "score"
   ]
  },
  {
   "cell_type": "code",
   "execution_count": 213,
   "metadata": {},
   "outputs": [
    {
     "data": {
      "text/plain": [
       "[array([[-5.32093234e-02,  8.35519582e-02, -3.05238098e-01,\n",
       "         -1.21554323e-01, -6.76429179e-03,  2.21532404e-01,\n",
       "          1.38665661e-02,  2.22657874e-01, -2.07011729e-01,\n",
       "         -2.11021021e-01,  1.65536761e-01],\n",
       "        [ 9.95114446e-02, -2.14191720e-01,  8.88878554e-02,\n",
       "         -6.36861563e-01, -4.67836976e-01, -7.96104610e-01,\n",
       "          1.60879478e-01, -5.16031981e-01,  5.14356911e-01,\n",
       "          8.60464692e-01,  7.65120924e-01],\n",
       "        [ 1.84735353e-03,  5.61359286e-01,  5.53428046e-02,\n",
       "         -4.27693784e-01,  1.40739769e-01,  1.16352074e-01,\n",
       "         -3.23149748e-02, -3.53913844e-01,  1.80044681e-01,\n",
       "         -1.05662085e-01, -2.35619117e-02],\n",
       "        [ 3.61356318e-01,  1.33170769e-01, -3.10072601e-01,\n",
       "          6.09145537e-02,  5.96822500e-01, -1.65271208e-01,\n",
       "         -9.74468216e-02, -3.70299339e-01,  5.65512516e-02,\n",
       "         -4.24483269e-01,  3.58011166e-04],\n",
       "        [ 1.17062032e+00,  6.13746881e-01,  2.85530210e-01,\n",
       "          4.52885509e-01,  4.99885231e-01,  3.72162580e-01,\n",
       "          1.18108653e-01,  2.47909889e-01,  2.33885273e-01,\n",
       "         -5.62458336e-01,  8.57521653e-01],\n",
       "        [-1.65494140e-02, -2.09620699e-01,  1.43392593e-01,\n",
       "          9.78905037e-02, -1.81777924e-01, -1.44725159e-01,\n",
       "          7.42775500e-01, -3.00207853e-01, -6.45575672e-02,\n",
       "          6.67347014e-02, -5.19475043e-01],\n",
       "        [ 2.63209008e-02,  5.23188710e-02, -5.68545818e-01,\n",
       "          2.69157160e-02,  1.86384350e-01, -2.86317796e-01,\n",
       "          4.46669668e-01,  4.37940389e-01,  9.96836424e-01,\n",
       "         -3.30800936e-02,  4.37921137e-01],\n",
       "        [ 1.50771337e-02,  5.20199165e-02, -1.40939251e-01,\n",
       "          1.99030414e-01, -4.45837565e-02, -1.60007939e-01,\n",
       "          2.83223361e-01,  1.15779169e-01, -1.80514026e-02,\n",
       "          1.55708656e-01, -3.00754309e-01],\n",
       "        [-3.81145030e-01,  1.77287772e-01, -7.52393544e-01,\n",
       "          4.22832742e-02, -2.60182291e-01, -7.79755712e-02,\n",
       "         -5.20085357e-02, -5.87764084e-01, -2.20184311e-01,\n",
       "          6.08957410e-02, -8.55654404e-02],\n",
       "        [ 5.41085750e-02,  2.75783598e-01, -2.21132785e-01,\n",
       "         -5.38196445e-01,  2.23119721e-01, -3.84796023e-01,\n",
       "         -1.45730702e-02, -2.06973907e-02,  1.38443008e-01,\n",
       "         -4.46682461e-02, -1.27301350e-01],\n",
       "        [ 3.34932357e-02,  4.76308346e-01, -1.32974997e-01,\n",
       "         -5.86389720e-01,  2.24378482e-01,  7.43069589e-01,\n",
       "          1.10551216e-01,  3.20526868e-01,  5.09901643e-02,\n",
       "         -4.16918881e-02,  2.09317714e-01]], dtype=float32),\n",
       " array([-0.8844557 , -0.04880739,  0.35426247,  0.38469693,  0.37525   ,\n",
       "         0.27050537,  0.45276985,  0.5735126 , -0.4082688 , -0.14239332,\n",
       "        -0.41769722], dtype=float32),\n",
       " array([[ 0.9720861 , -1.0567117 ,  0.377962  , -0.88884795, -0.9236813 ,\n",
       "         -0.55806   ,  0.4206393 ],\n",
       "        [ 0.37198114,  0.3627058 ,  0.20659406,  0.6569611 ,  0.06068449,\n",
       "         -0.20393585,  0.317536  ],\n",
       "        [ 0.32155713, -0.07462444, -0.1022885 ,  0.308118  ,  0.61276   ,\n",
       "         -0.36008945, -0.85117465],\n",
       "        [ 0.3409929 ,  0.18928581,  0.5483089 ,  0.2638251 ,  0.06778234,\n",
       "          0.24025759, -0.40475884],\n",
       "        [-0.45689568, -0.2846422 ,  0.07040073, -0.10791658,  0.54942125,\n",
       "          0.64575386,  0.05674883],\n",
       "        [ 0.36475098,  0.6948345 , -1.0445511 , -0.09013525,  0.4715983 ,\n",
       "         -0.2571426 , -0.28816098],\n",
       "        [-0.21109153,  0.3677742 , -0.62576973,  0.1031009 ,  0.1364313 ,\n",
       "         -0.3966167 , -0.2386835 ],\n",
       "        [ 0.30407917, -0.09963179, -0.07318287,  0.21004134,  0.57227963,\n",
       "          0.43505517, -0.741257  ],\n",
       "        [-0.25539368,  0.32549566, -1.071137  ,  0.5379968 , -0.27983657,\n",
       "         -0.47481957, -0.59601486],\n",
       "        [ 0.5824986 ,  0.50817895,  0.02577592, -0.18828723, -0.63681203,\n",
       "          0.20721276, -0.267668  ],\n",
       "        [-0.10589471,  0.89334935, -0.16403654,  0.010466  , -0.14294726,\n",
       "          0.28482524,  0.55497915]], dtype=float32),\n",
       " array([ 0.08158599, -0.22341268,  0.02768121,  0.28851846,  0.40513158,\n",
       "        -0.14173034,  0.46870908], dtype=float32),\n",
       " array([[ 0.2611445 ,  0.23296112, -0.42811465, -0.48585895,  0.09579058,\n",
       "          1.1242349 ],\n",
       "        [-0.6220254 , -0.6855593 ,  0.629425  , -0.15815187,  0.16005258,\n",
       "         -0.3226204 ],\n",
       "        [ 0.2884822 , -0.34617084,  1.0220996 , -1.3154143 ,  0.48359635,\n",
       "         -0.43683416],\n",
       "        [ 0.48741257,  0.49838614,  0.5470156 , -0.02512878,  0.5425806 ,\n",
       "         -0.0702479 ],\n",
       "        [ 0.74071187,  0.4541537 ,  0.61140347,  0.36270547,  0.04832062,\n",
       "         -0.42537346],\n",
       "        [-0.46891204, -0.5405603 , -0.19838409, -1.2529994 , -0.74555844,\n",
       "         -0.0850073 ],\n",
       "        [-0.07982051, -1.2119042 , -0.9621794 ,  0.42440328, -0.07289939,\n",
       "          0.97369653]], dtype=float32),\n",
       " array([ 0.0539832 ,  0.17526269,  0.09364297,  0.22767511, -0.26195493,\n",
       "         0.33812106], dtype=float32),\n",
       " array([[-0.28877205],\n",
       "        [-0.48629817],\n",
       "        [-0.96517503],\n",
       "        [-0.5699482 ],\n",
       "        [-0.10704142],\n",
       "        [ 1.2482163 ]], dtype=float32),\n",
       " array([0.3829969], dtype=float32)]"
      ]
     },
     "execution_count": 213,
     "metadata": {},
     "output_type": "execute_result"
    }
   ],
   "source": [
    "## get weights\n",
    "classifier2.get_weights()"
   ]
  },
  {
   "cell_type": "code",
   "execution_count": null,
   "metadata": {},
   "outputs": [],
   "source": []
  },
  {
   "cell_type": "code",
   "execution_count": null,
   "metadata": {},
   "outputs": [],
   "source": []
  }
 ],
 "metadata": {
  "kernelspec": {
   "display_name": "Python 3",
   "language": "python",
   "name": "python3"
  },
  "language_info": {
   "codemirror_mode": {
    "name": "ipython",
    "version": 3
   },
   "file_extension": ".py",
   "mimetype": "text/x-python",
   "name": "python",
   "nbconvert_exporter": "python",
   "pygments_lexer": "ipython3",
   "version": "3.8.3"
  }
 },
 "nbformat": 4,
 "nbformat_minor": 4
}
